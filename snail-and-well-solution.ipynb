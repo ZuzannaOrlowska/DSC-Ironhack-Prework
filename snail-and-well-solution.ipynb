{
 "cells": [
  {
   "cell_type": "markdown",
   "metadata": {},
   "source": [
    "# Snail and well\n",
    "\n",
    "A snail falls at the bottom of a 125 cm well. Each day the snail rises 30 cm. But at night, while sleeping, slides 20 cm because the walls are wet. How many days does it take to escape from the well?\n",
    "\n",
    "TIP: http://puzzles.nigelcoldwell.co.uk/sixtytwo.htm"
   ]
  },
  {
   "cell_type": "markdown",
   "metadata": {},
   "source": [
    "## Solución"
   ]
  },
  {
   "cell_type": "code",
   "execution_count": null,
   "metadata": {},
   "outputs": [],
   "source": [
    "# Assign problem data to variables with representative names\n",
    "# well height, daily advance, night retreat, accumulated distance\n",
    "\n",
    "well_height=125\n",
    "daily_advance=30\n",
    "night_retreat= -20\n",
    "accumulated_distance= daily_advance + night_retreat\n",
    "snail_position = 0\n",
    "\n",
    "# Assign 0 to the variable that represents the solution\n",
    "days = 0\n",
    "\n",
    "# Write the code that solves the problem\n",
    "while snail_position<= well_height:\n",
    "    snail_position = snail_position + accumulated_distance\n",
    "    days = days+1\n",
    "\n",
    "# Print the result with print('Days =', days)\n",
    "print (\"Days =\", (days))"
   ]
  },
  {
   "cell_type": "markdown",
   "metadata": {},
   "source": [
    "## Goals\n",
    "\n",
    "1. Treatment of variables\n",
    "2. Use of loop **while**\n",
    "3. Use of conditional **if-else**\n",
    "4. Print in console"
   ]
  },
  {
   "cell_type": "markdown",
   "metadata": {},
   "source": [
    "## Bonus\n",
    "The distance traveled by the snail is now defined by a list.\n",
    "```\n",
    "advance_cm = [30, 21, 33, 77, 44, 45, 23, 45, 12, 34, 55]\n",
    "```\n",
    "How long does it take to raise the well?\n",
    "\n",
    "What is its maximum displacement in one day? And its minimum?\n",
    "\n",
    "What is its average speed during the day?\n",
    "\n",
    "What is the standard deviation of its displacement during the day?"
   ]
  },
  {
   "cell_type": "code",
   "execution_count": 5,
   "metadata": {},
   "outputs": [
    {
     "name": "stdout",
     "output_type": "stream",
     "text": [
      "Actual distance = [10, 1, 13, 57, 24, 25, 3, 25, -8, 14, 35]\n",
      "Days = 6\n",
      "max =  57\n",
      "min =  -8\n",
      "Average progress =  33.166666666666664\n",
      "Standard dev = 17.996969441850734\n"
     ]
    }
   ],
   "source": [
    "# Assign problem data to variables with representative names\n",
    "# well height, daily advance, night retreat, accumulated distance\n",
    "well_height=125\n",
    "advance_cm = [30, 21, 33, 77, 44, 45, 23, 45, 12, 34, 55]\n",
    "snail_position = 0\n",
    "night_retreat = -20\n",
    "actual_distance= 0\n",
    "total_displacement = 0 \n",
    "\n",
    "# Assign 0 to the variable that represents the solution\n",
    "days = 0\n",
    "# Write the code that solves the problem\n",
    "daily_cm = [x + night_retreat for x in advance_cm]\n",
    "print (\"Actual distance =\", (daily_cm))\n",
    "for  i in range(len(daily_cm)): \n",
    "    days +=1\n",
    "    total_displacement = total_displacement + daily_cm[i]\n",
    "    if total_displacement >= well_height:\n",
    "        break \n",
    "\n",
    "# Print the result with print('Days =', days)\n",
    "print (\"Days =\", (days))\n",
    "\n",
    "# What is its maximum displacement in a day? And its minimum?\n",
    "max_displacement= max(daily_cm)\n",
    "min_displacement = min(daily_cm)\n",
    "\n",
    "print (\"max = \", (max_displacement))\n",
    "print (\"min = \", (min_displacement))\n",
    "\n",
    "# What is its average progress?\n",
    "avg_progress = sum(daily_cm)/days\n",
    "print (\"Average progress = \", (avg_progress))\n",
    "\n",
    "# What is the standard deviation of your displacement during the day?\n",
    "import statistics\n",
    "std_dev = statistics.stdev (daily_cm)\n",
    "print (\"Standard dev =\", (std_dev))"
   ]
  },
  {
   "cell_type": "code",
   "execution_count": null,
   "metadata": {},
   "outputs": [],
   "source": []
  },
  {
   "cell_type": "code",
   "execution_count": null,
   "metadata": {},
   "outputs": [],
   "source": []
  },
  {
   "cell_type": "code",
   "execution_count": null,
   "metadata": {},
   "outputs": [],
   "source": []
  },
  {
   "cell_type": "code",
   "execution_count": null,
   "metadata": {},
   "outputs": [],
   "source": []
  }
 ],
 "metadata": {
  "kernelspec": {
   "display_name": "Python 3",
   "language": "python",
   "name": "python3"
  },
  "language_info": {
   "codemirror_mode": {
    "name": "ipython",
    "version": 3
   },
   "file_extension": ".py",
   "mimetype": "text/x-python",
   "name": "python",
   "nbconvert_exporter": "python",
   "pygments_lexer": "ipython3",
   "version": "3.7.4"
  }
 },
 "nbformat": 4,
 "nbformat_minor": 2
}
