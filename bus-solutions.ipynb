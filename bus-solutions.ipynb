{
 "cells": [
  {
   "cell_type": "markdown",
   "metadata": {},
   "source": [
    "# Bus\n",
    "\n",
    "This bus has a passenger entry and exit control system to monitor the number of occupants it carries and thus detect when there is too high a capacity.\n",
    "\n",
    "At each stop the entry and exit of passengers is represented by a tuple consisting of two integer numbers.\n",
    "```\n",
    "bus_stop = (in, out)\n",
    "```\n",
    "The succession of stops is represented by a list of these tuples.\n",
    "```\n",
    "stops = [(in1, out1), (in2, out2), (in3, out3), (in4, out4)]\n",
    "```\n",
    "\n",
    "## Goals:\n",
    "* lists, tuples\n",
    "* while/for loops\n",
    "* minimum, maximum, length\n",
    "* average, standard deviation\n",
    "\n",
    "## Tasks\n",
    "1. Calculate the number of stops.\n",
    "2. Assign to a variable a list whose elements are the number of passengers at each stop (in-out),\n",
    "3. Find the maximum occupation of the bus.\n",
    "4. Calculate the average occupation. And the standard deviation.\n"
   ]
  },
  {
   "cell_type": "code",
   "execution_count": 1,
   "metadata": {},
   "outputs": [
    {
     "name": "stdout",
     "output_type": "stream",
     "text": [
      "8 random values [5, 8, 9, 5, 0, 0, 1, 7]\n",
      "Stops = [(5, 8), (9, 5), (0, 0), (1, 7)]\n"
     ]
    }
   ],
   "source": [
    "# variables. I am using a random number generator function here found on https://machinelearningmastery.com/how-to-generate-random-numbers-in-python/\n",
    "from numpy.random import seed\n",
    "from numpy.random import randint\n",
    "seed(1)\n",
    "values = randint(0, 10,  20)\n",
    "\n",
    "values_original = [8, 5, 9, 5, 0, 0, 1, 7, 6, 9, 2, 4, 5, 2, 4, 2, 4, 7, 7, 9]\n",
    "random_values = values_original [:-12]\n",
    "print(\"8 random values I used\", random_values)\n",
    "\n",
    "stops = [(8, 5), (9, 5), (0, 0), (1, 7)]\n",
    "print(\"Stops =\", stops)"
   ]
  },
  {
   "cell_type": "code",
   "execution_count": 2,
   "metadata": {},
   "outputs": [
    {
     "name": "stdout",
     "output_type": "stream",
     "text": [
      "Number of stops = 4\n"
     ]
    }
   ],
   "source": [
    "# 1. Calculate the number of stops.\n",
    "number_stops = len(stops)\n",
    "print (\"Number of stops =\", number_stops)"
   ]
  },
  {
   "cell_type": "code",
   "execution_count": 22,
   "metadata": {},
   "outputs": [
    {
     "name": "stdout",
     "output_type": "stream",
     "text": [
      "Population of the bus [3]\n",
      "On the 0 stop, 8 passengers entered, 5 passengers left\n",
      "Population of the bus [3, 7]\n",
      "On the 1 stop, 9 passengers entered, 5 passengers left\n",
      "Population of the bus [3, 7, 7]\n",
      "On the 2 stop, 0 passengers entered, 0 passengers left\n",
      "Population of the bus [3, 7, 7, 1]\n",
      "On the 3 stop, 1 passengers entered, 7 passengers left\n"
     ]
    }
   ],
   "source": [
    "# 2. Assign a variable a list whose elements are the number of passengers in each stop: \n",
    "# Each item depends on the previous item in the list + in - out.\n",
    "stops = [(8, 5), (9, 5), (0, 0), (1, 7)]\n",
    "number_passengers = 0\n",
    "number_stops = len(stops)\n",
    "i=0\n",
    "inside_bus = []\n",
    "\n",
    "while i < number_stops :\n",
    "        for stop in stops:\n",
    "            l = list(stop)\n",
    "            in_i = l[0]\n",
    "            out_i = l[1]   \n",
    "            number_passengers += in_i - out_i\n",
    "            inside_bus.append(number_passengers)\n",
    "            print(\"Population of the bus\", inside_bus)\n",
    "            print(\"On the {0} stop, {1} passengers entered, {2} passengers left\".format(i, in_i, out_i) )\n",
    "            i += 1\n",
    "        \n",
    "#I did use external help for this question"
   ]
  },
  {
   "cell_type": "code",
   "execution_count": 20,
   "metadata": {},
   "outputs": [
    {
     "name": "stdout",
     "output_type": "stream",
     "text": [
      "Maximum occupation of the bus = 7\n"
     ]
    }
   ],
   "source": [
    "# 3. Find the maximum occupation of the bus.\n",
    "max_occup_bus = max(inside_bus)\n",
    "print (\"Maximum occupation of the bus =\", max_occup_bus)"
   ]
  },
  {
   "cell_type": "code",
   "execution_count": 21,
   "metadata": {},
   "outputs": [
    {
     "name": "stdout",
     "output_type": "stream",
     "text": [
      "Average occupation of the bus = 4.5\n",
      "Standard deviation of the occupation of the bus = 3.0\n"
     ]
    }
   ],
   "source": [
    "# 4. Calculate the average occupation. And the standard deviation.\n",
    "avg_occupation_bus = sum (inside_bus)/len(inside_bus)\n",
    "import statistics\n",
    "std_dev_occupation_bus= statistics.stdev (inside_bus)\n",
    "print (\"Average occupation of the bus =\", avg_occupation_bus)\n",
    "print (\"Standard deviation of the occupation of the bus =\", std_dev_occupation_bus)\n"
   ]
  },
  {
   "cell_type": "code",
   "execution_count": null,
   "metadata": {},
   "outputs": [],
   "source": []
  }
 ],
 "metadata": {
  "kernelspec": {
   "display_name": "Python 3",
   "language": "python",
   "name": "python3"
  },
  "language_info": {
   "codemirror_mode": {
    "name": "ipython",
    "version": 3
   },
   "file_extension": ".py",
   "mimetype": "text/x-python",
   "name": "python",
   "nbconvert_exporter": "python",
   "pygments_lexer": "ipython3",
   "version": "3.7.4"
  }
 },
 "nbformat": 4,
 "nbformat_minor": 2
}
